{
 "cells": [
  {
   "cell_type": "markdown",
   "id": "af91442a",
   "metadata": {},
   "source": [
    "### Clifford QSVT \n",
    "\n",
    "In this notebook, I apply the quantum singular value transform to three different clifford circuits."
   ]
  },
  {
   "cell_type": "code",
   "execution_count": 29,
   "id": "2ed1b326",
   "metadata": {},
   "outputs": [],
   "source": [
    "import pennylane as qml\n",
    "import numpy as np\n",
    "import matplotlib.pyplot as plt\n",
    "from timeit import timeit\n",
    "\n",
    "# constructing stabilizer (clifford) circuits\n",
    "dev1 = qml.device(\"default.clifford\", wires=2)\n",
    "dev2 = qml.device(\"default.clifford\", wires=2)\n",
    "dev3 = qml.device(\"default.clifford\", wires=4)\n",
    "\n",
    "@qml.qnode(dev1)\n",
    "# clifford 1 has 2 quibits with a depth of 3\n",
    "def clifford1(return_state=True):\n",
    "    qml.X(wires=[0])\n",
    "    qml.CNOT(wires=[0, 1])\n",
    "    qml.S(wires=[0])\n",
    "    qml.Hadamard(wires=[1])\n",
    "    return qml.probs(), ([qml.state()] if return_state else [])\n",
    "\n",
    "@qml.qnode(dev2)\n",
    "# clifford 1 has 2 quibits with a depth of 5\n",
    "def clifford2(return_state=True):\n",
    "    qml.Hadamard(wires=[0])\n",
    "    qml.X(wires=[0])\n",
    "    qml.CY(wires=[0, 1])\n",
    "    qml.Z(wires=[1])\n",
    "    qml.S(wires=[1])\n",
    "    return qml.probs(), ([qml.state()] if return_state else [])\n",
    "\n",
    "@qml.qnode(dev3)\n",
    "# clifford 1 has 4 quibits with a depth of 5\n",
    "def clifford3(return_state=True):\n",
    "    qml.S(wires=[0])\n",
    "    qml.CNOT(wires=[0, 1])\n",
    "    qml.Hadamard(wires=[1])\n",
    "    qml.CY(wires=[1, 2])\n",
    "    qml.adjoint(qml.S(wires=[2]))\n",
    "    qml.CZ(wires=[2, 3])\n",
    "    return qml.probs(), ([qml.state()] if return_state else [])"
   ]
  },
  {
   "cell_type": "code",
   "execution_count": null,
   "id": "278d2fce",
   "metadata": {},
   "outputs": [],
   "source": []
  }
 ],
 "metadata": {
  "language_info": {
   "name": "python"
  }
 },
 "nbformat": 4,
 "nbformat_minor": 5
}
