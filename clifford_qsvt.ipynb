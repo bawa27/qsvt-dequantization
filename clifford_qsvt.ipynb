{
 "cells": [
  {
   "cell_type": "markdown",
   "id": "af91442a",
   "metadata": {},
   "source": [
    "### Clifford QSVT \n",
    "\n",
    "In this notebook, I apply the quantum singular value transform to three different clifford circuits."
   ]
  },
  {
   "cell_type": "code",
   "execution_count": 2,
   "id": "2ed1b326",
   "metadata": {},
   "outputs": [],
   "source": [
    "import pennylane as qml\n",
    "import numpy as np\n",
    "import matplotlib.pyplot as plt\n",
    "from timeit import timeit\n",
    "\n",
    "# constructing stabilizer (clifford) circuits\n",
    "dev1 = qml.device(\"default.clifford\", wires=2)\n",
    "dev2 = qml.device(\"default.clifford\", wires=2)\n",
    "dev3 = qml.device(\"default.clifford\", wires=4)\n",
    "\n",
    "@qml.qnode(dev1)\n",
    "# clifford 1 has 2 quibits with a depth of 3\n",
    "def clifford1(return_state=True):\n",
    "    qml.X(wires=[0])\n",
    "    qml.CNOT(wires=[0, 1])\n",
    "    qml.S(wires=[0])\n",
    "    qml.Hadamard(wires=[1])\n",
    "    return qml.probs(), ([qml.state()] if return_state else [])\n",
    "\n",
    "@qml.qnode(dev2)\n",
    "# clifford 1 has 2 quibits with a depth of 5\n",
    "def clifford2(return_state=True):\n",
    "    qml.Hadamard(wires=[0])\n",
    "    qml.X(wires=[0])\n",
    "    qml.CY(wires=[0, 1])\n",
    "    qml.Z(wires=[1])\n",
    "    qml.S(wires=[1])\n",
    "    return qml.probs(), ([qml.state()] if return_state else [])\n",
    "\n",
    "@qml.qnode(dev3)\n",
    "# clifford 1 has 4 quibits with a depth of 5\n",
    "def clifford3(return_state=True):\n",
    "    qml.S(wires=[0])\n",
    "    qml.CNOT(wires=[0, 1])\n",
    "    qml.Hadamard(wires=[1])\n",
    "    qml.CY(wires=[1, 2])\n",
    "    qml.adjoint(qml.S(wires=[2]))\n",
    "    qml.CZ(wires=[2, 3])\n",
    "    return qml.probs(), ([qml.state()] if return_state else [])"
   ]
  },
  {
   "cell_type": "code",
   "execution_count": 3,
   "id": "278d2fce",
   "metadata": {},
   "outputs": [
    {
     "name": "stdout",
     "output_type": "stream",
     "text": [
      "[[ 0.   +0.j     0.   +0.j     0.707+0.j     0.707+0.j   ]\n",
      " [ 0.   +0.j     0.   +0.j     0.707+0.j    -0.707+0.j   ]\n",
      " [ 0.   +0.707j  0.   +0.707j  0.   +0.j     0.   +0.j   ]\n",
      " [ 0.   -0.707j  0.   +0.707j  0.   +0.j     0.   +0.j   ]]\n"
     ]
    }
   ],
   "source": [
    "# converting circuits to matrix form\n",
    "\n",
    "cliff1_matrix = qml.matrix(clifford1)().round(3) \n",
    "cliff2_matrix = qml.matrix(clifford2)().round(3)  \n",
    "cliff3_matrix = qml.matrix(clifford3)().round(3)  \n",
    "\n",
    "print(cliff1_matrix)"
   ]
  },
  {
   "cell_type": "code",
   "execution_count": 4,
   "id": "2aa47ed6",
   "metadata": {},
   "outputs": [],
   "source": [
    "# # block encoding the circuits\n",
    "# block1 = qml.BlockEncode(cliff1_matrix, wires=range(3))\n",
    "# block2 = qml.BlockEncode(cliff2_matrix, wires = range(3))\n",
    "# block3 = qml.BlockEncode(cliff3_matrix, wires = range(5))"
   ]
  },
  {
   "cell_type": "code",
   "execution_count": null,
   "id": "4055ea27",
   "metadata": {},
   "outputs": [],
   "source": []
  },
  {
   "cell_type": "code",
   "execution_count": 22,
   "id": "2b9dc26b",
   "metadata": {},
   "outputs": [
    {
     "name": "stdout",
     "output_type": "stream",
     "text": [
      "[[ 0.00000000e+00+0.00000000e+00j  0.00000000e+00+0.00000000e+00j\n",
      "   7.06893243e-01-2.81453249e-04j  7.06893243e-01-2.81453249e-04j\n",
      "   1.14876704e-02-2.17200599e-02j -2.48667509e-19-2.64198572e-19j\n",
      "   0.00000000e+00+0.00000000e+00j  0.00000000e+00+0.00000000e+00j]\n",
      " [ 0.00000000e+00+0.00000000e+00j  0.00000000e+00+0.00000000e+00j\n",
      "   7.06893243e-01-2.81453249e-04j -7.06893243e-01+2.81453249e-04j\n",
      "  -5.92431893e-19+1.36446569e-18j  1.14876704e-02-2.17200599e-02j\n",
      "   0.00000000e+00+0.00000000e+00j  0.00000000e+00+0.00000000e+00j]\n",
      " [ 2.81453249e-04+7.06893243e-01j  2.81453249e-04+7.06893243e-01j\n",
      "   0.00000000e+00+0.00000000e+00j  0.00000000e+00+0.00000000e+00j\n",
      "   0.00000000e+00+0.00000000e+00j  0.00000000e+00+0.00000000e+00j\n",
      "   1.14876704e-02-2.17200599e-02j -8.53127734e-19-1.19426416e-18j]\n",
      " [-2.81453249e-04-7.06893243e-01j  2.81453249e-04+7.06893243e-01j\n",
      "   0.00000000e+00+0.00000000e+00j  0.00000000e+00+0.00000000e+00j\n",
      "   0.00000000e+00+0.00000000e+00j  0.00000000e+00+0.00000000e+00j\n",
      "   6.68483162e-20-2.74288114e-19j  1.14876704e-02-2.17200599e-02j]\n",
      " [ 1.14876704e-02+2.17200599e-02j  2.62357743e-16+9.79614241e-17j\n",
      "   0.00000000e+00+0.00000000e+00j  0.00000000e+00+0.00000000e+00j\n",
      "   0.00000000e+00+0.00000000e+00j  0.00000000e+00+0.00000000e+00j\n",
      "  -2.81453249e-04+7.06893243e-01j  2.81453249e-04-7.06893243e-01j]\n",
      " [ 2.61490513e-16+9.88286549e-17j  1.14876704e-02+2.17200599e-02j\n",
      "   0.00000000e+00+0.00000000e+00j  0.00000000e+00+0.00000000e+00j\n",
      "   0.00000000e+00+0.00000000e+00j  0.00000000e+00+0.00000000e+00j\n",
      "  -2.81453249e-04+7.06893243e-01j -2.81453249e-04+7.06893243e-01j]\n",
      " [ 0.00000000e+00+0.00000000e+00j  0.00000000e+00+0.00000000e+00j\n",
      "   1.14876704e-02+2.17200599e-02j  2.63196614e-16+9.86690746e-17j\n",
      "  -7.06893243e-01-2.81453249e-04j -7.06893243e-01-2.81453249e-04j\n",
      "   0.00000000e+00+0.00000000e+00j  0.00000000e+00+0.00000000e+00j]\n",
      " [ 0.00000000e+00+0.00000000e+00j  0.00000000e+00+0.00000000e+00j\n",
      "   2.62329384e-16+9.95363053e-17j  1.14876704e-02+2.17200599e-02j\n",
      "  -7.06893243e-01-2.81453249e-04j  7.06893243e-01+2.81453249e-04j\n",
      "   0.00000000e+00+0.00000000e+00j  0.00000000e+00+0.00000000e+00j]]\n"
     ]
    },
    {
     "data": {
      "text/plain": [
       "(8, 8)"
      ]
     },
     "execution_count": 22,
     "metadata": {},
     "output_type": "execute_result"
    }
   ],
   "source": [
    "# we approximate the identity polynomial\n",
    "id_poly = np.array([0,0.5, 0, 0.5])\n",
    "\n",
    "qsvt_cliff1 = qml.matrix(qml.qsvt, wire_order=list(range(3)))(\n",
    "    cliff1_matrix, id_poly, encoding_wires=list(range(3)), block_encoding=\"embedding\"\n",
    ") # block encoded in 3-qubit system - 1 ancilla required for embedding\n",
    "\n",
    "print(qsvt_cliff1)\n",
    "qsvt_cliff1.shape\n",
    "# we use fidelity to compare the transformed state with the original state\n",
    "# fidelity1 = qml.math.fidelity(qsvt_cliff1, cliff1_matrix)"
   ]
  },
  {
   "cell_type": "code",
   "execution_count": null,
   "id": "33d451e8",
   "metadata": {},
   "outputs": [],
   "source": [
    "U_cliff2 = qml.matrix(qml.qsvt, wire_order=list(range(3)))(\n",
    "    cliff2_matrix, id_poly, encoding_wires=list(range(3)), block_encoding=\"embedding\"\n",
    ") # block encoded in 3-qubit system - 1 ancilla required for embedding\n",
    "\n",
    "qsvt_cliff2 = np.real(np.diag(U_cliff1))[:16] "
   ]
  },
  {
   "cell_type": "code",
   "execution_count": null,
   "id": "a4f79f3a",
   "metadata": {},
   "outputs": [],
   "source": [
    "U_cliff3 = qml.matrix(qml.qsvt, wire_order=list(range(5)))(\n",
    "    cliff2_matrix, id_poly, encoding_wires=list(range(5)), block_encoding=\"embedding\"\n",
    ") # block encoded in 3-qubit system - 1 ancilla required for embedding\n",
    "\n",
    "qsvt_cliff3 = np.real(np.diag(U_cliff1))[:16] "
   ]
  }
 ],
 "metadata": {
  "kernelspec": {
   "display_name": "qsvt-env",
   "language": "python",
   "name": "python3"
  },
  "language_info": {
   "codemirror_mode": {
    "name": "ipython",
    "version": 3
   },
   "file_extension": ".py",
   "mimetype": "text/x-python",
   "name": "python",
   "nbconvert_exporter": "python",
   "pygments_lexer": "ipython3",
   "version": "3.10.17"
  }
 },
 "nbformat": 4,
 "nbformat_minor": 5
}
