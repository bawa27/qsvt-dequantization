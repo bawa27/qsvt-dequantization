{
 "cells": [
  {
   "cell_type": "markdown",
   "id": "af91442a",
   "metadata": {},
   "source": [
    "### Clifford QSVT \n",
    "\n",
    "In this notebook, I apply the quantum singular value transform to three different clifford circuits."
   ]
  },
  {
   "cell_type": "code",
   "execution_count": null,
   "id": "2ed1b326",
   "metadata": {},
   "outputs": [],
   "source": [
    "import pennylane as qml\n",
    "import numpy as np\n",
    "import matplotlib.pyplot as plt\n",
    "from timeit import timeit\n",
    "\n",
    "# constructing stabilizer (clifford) circuits\n",
    "dev1 = qml.device(\"default.clifford\", wires=2)\n",
    "dev2 = qml.device(\"default.clifford\", wires=2)\n",
    "dev3 = qml.device(\"default.clifford\", wires=4)\n",
    "\n",
    "@qml.qnode(dev1)\n",
    "# clifford 1 has 2 quibits with a depth of 3\n",
    "def clifford1(return_state=True):\n",
    "    qml.X(wires=[0])\n",
    "    qml.CNOT(wires=[0, 1])\n",
    "    qml.S(wires=[0])\n",
    "    qml.Hadamard(wires=[1])\n",
    "    return qml.probs(), ([qml.state()] if return_state else [])\n",
    "\n",
    "@qml.qnode(dev2)\n",
    "# clifford 1 has 2 quibits with a depth of 5\n",
    "def clifford2(return_state=True):\n",
    "    qml.Hadamard(wires=[0])\n",
    "    qml.X(wires=[0])\n",
    "    qml.CY(wires=[0, 1])\n",
    "    qml.Z(wires=[1])\n",
    "    qml.S(wires=[1])\n",
    "    return qml.probs(), ([qml.state()] if return_state else [])\n",
    "\n",
    "@qml.qnode(dev3)\n",
    "# clifford 1 has 4 quibits with a depth of 5\n",
    "def clifford3(return_state=True):\n",
    "    qml.S(wires=[0])\n",
    "    qml.CNOT(wires=[0, 1])\n",
    "    qml.Hadamard(wires=[1])\n",
    "    qml.CY(wires=[1, 2])\n",
    "    qml.adjoint(qml.S(wires=[2]))\n",
    "    qml.CZ(wires=[2, 3])\n",
    "    return qml.probs(), ([qml.state()] if return_state else [])"
   ]
  },
  {
   "cell_type": "code",
   "execution_count": 88,
   "id": "278d2fce",
   "metadata": {},
   "outputs": [
    {
     "name": "stdout",
     "output_type": "stream",
     "text": [
      "[[ 0.   +0.j     0.   +0.j     0.707+0.j     0.707+0.j   ]\n",
      " [ 0.   +0.j     0.   +0.j     0.707+0.j    -0.707+0.j   ]\n",
      " [ 0.   +0.707j  0.   +0.707j  0.   +0.j     0.   +0.j   ]\n",
      " [ 0.   -0.707j  0.   +0.707j  0.   +0.j     0.   +0.j   ]]\n"
     ]
    }
   ],
   "source": [
    "# converting circuits to matrix form\n",
    "\n",
    "cliff1_matrix = qml.matrix(clifford1)().round(3) \n",
    "cliff2_matrix = qml.matrix(clifford2)().round(3)  \n",
    "cliff3_matrix = qml.matrix(clifford3)().round(3)  \n",
    "\n",
    "print(cliff1_matrix)"
   ]
  },
  {
   "cell_type": "code",
   "execution_count": null,
   "id": "2aa47ed6",
   "metadata": {},
   "outputs": [],
   "source": [
    "# # block encoding the circuits\n",
    "# block1 = qml.BlockEncode(cliff1_matrix, wires=range(3))\n",
    "# block2 = qml.BlockEncode(cliff2_matrix, wires = range(3))\n",
    "# block3 = qml.BlockEncode(cliff3_matrix, wires = range(5))"
   ]
  },
  {
   "cell_type": "code",
   "execution_count": 101,
   "id": "4055ea27",
   "metadata": {},
   "outputs": [],
   "source": [
    "# we approximate the identity polynomial\n",
    "id_poly = np.array([0,1])"
   ]
  },
  {
   "cell_type": "code",
   "execution_count": null,
   "id": "2b9dc26b",
   "metadata": {},
   "outputs": [],
   "source": [
    "\n",
    "wire_order = list(range(3))\n",
    "U_A = qml.matrix(qml.qsvt, wire_order=wire_order)(\n",
    "    cliff1_matrix, id_poly, encoding_wires=wire_order, block_encoding=\"embedding\"\n",
    ") # block encoded in 3-qubit system - 1 ancilla required for embedding\n",
    "\n",
    "qsvt_A = np.real(np.diag(U_A))[:16] "
   ]
  },
  {
   "cell_type": "code",
   "execution_count": null,
   "id": "33d451e8",
   "metadata": {},
   "outputs": [],
   "source": []
  }
 ],
 "metadata": {
  "kernelspec": {
   "display_name": "qsvt-env",
   "language": "python",
   "name": "python3"
  },
  "language_info": {
   "codemirror_mode": {
    "name": "ipython",
    "version": 3
   },
   "file_extension": ".py",
   "mimetype": "text/x-python",
   "name": "python",
   "nbconvert_exporter": "python",
   "pygments_lexer": "ipython3",
   "version": "3.10.17"
  }
 },
 "nbformat": 4,
 "nbformat_minor": 5
}
