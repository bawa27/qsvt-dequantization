{
 "cells": [
  {
   "cell_type": "markdown",
   "id": "666e37c3",
   "metadata": {},
   "source": [
    "### Pennylane Intro to QSVT\n",
    "\n",
    "**Aryan Bawa**  \n",
    "\n",
    "In this notebook, I follow Pennylane.ai's intro to QSVT tutorial [here](https://pennylane.ai/qml/demos/tutorial_intro_qsvt) and make some notes about the process. "
   ]
  },
  {
   "cell_type": "code",
   "execution_count": 2,
   "id": "7660c710",
   "metadata": {},
   "outputs": [],
   "source": [
    "import pennylane as qml\n",
    "import numpy as np\n",
    "import matplotlib.pyplot as plt"
   ]
  },
  {
   "cell_type": "code",
   "execution_count": null,
   "id": "9087c3a2",
   "metadata": {},
   "outputs": [],
   "source": []
  }
 ],
 "metadata": {
  "kernelspec": {
   "display_name": "qsvt-env",
   "language": "python",
   "name": "python3"
  },
  "language_info": {
   "codemirror_mode": {
    "name": "ipython",
    "version": 3
   },
   "file_extension": ".py",
   "mimetype": "text/x-python",
   "name": "python",
   "nbconvert_exporter": "python",
   "pygments_lexer": "ipython3",
   "version": "3.10.17"
  }
 },
 "nbformat": 4,
 "nbformat_minor": 5
}
