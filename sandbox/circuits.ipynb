{
 "cells": [
  {
   "cell_type": "markdown",
   "id": "e422ec57",
   "metadata": {},
   "source": [
    "### Creating and Visualizing Circuits in Pennylane\n",
    "\n",
    "**Aryan Bawa**  \n",
    "\n",
    "In this notebook, I create some quantum circuits in pennylane and visualize them.  "
   ]
  },
  {
   "cell_type": "code",
   "execution_count": 1,
   "id": "37ae3fce",
   "metadata": {},
   "outputs": [],
   "source": [
    "import pennylane as qml\n",
    "import numpy as np"
   ]
  },
  {
   "cell_type": "markdown",
   "id": "47b6d8d8",
   "metadata": {},
   "source": [
    "I start simple with a circuit to create bell states - a single Hadamard and CNOT gate. In pennylane we define quantum node objects to represent and declare quantum circuits. QNodes use the Numpy interface."
   ]
  },
  {
   "cell_type": "code",
   "execution_count": 16,
   "id": "6891ca65",
   "metadata": {},
   "outputs": [],
   "source": [
    "def bell_function():\n",
    "    # wires here are quantum subsystems/qubits\n",
    "    qml.Hadamard(wires=0)\n",
    "    qml.CNOT(wires=[0, 1])\n",
    "    return qml.state()"
   ]
  },
  {
   "cell_type": "markdown",
   "id": "cd87f4a9",
   "metadata": {},
   "source": [
    "The quantum function accepts classical inputs and consists of quantum operators. They can contain classical flow structures like for loops and if statements. The quantum function *must* return a single or tuple of measurement values by applying one of Pennylane's [measurement functions](https://docs.pennylane.ai/en/stable/introduction/measurements.html), e.g with an expectation value. \n",
    "\n",
    "Next I define a computational device, which can be a simulation or actual hardware. The wires argument defines the number of wires/qubits the device can address. Note that this is **not** the state of the qubit, just its index.  Custom labels can also be used via an iterable. This is also true of quantum functions. The shots argument defines how many times a circuit should be sampled. Shots can be batched as well, so that a variety of different sample sizes can be taken."
   ]
  },
  {
   "cell_type": "code",
   "execution_count": 7,
   "id": "c67782bb",
   "metadata": {},
   "outputs": [],
   "source": [
    "# default from pennylane\n",
    "dev = qml.device('default.qubit', wires=2, shots=1000)"
   ]
  },
  {
   "cell_type": "markdown",
   "id": "71aa7d8f",
   "metadata": {},
   "source": [
    "Finally, I assemble the QNode object to create the circuit. Now, I can run the circuit as a normal python function."
   ]
  },
  {
   "cell_type": "code",
   "execution_count": 21,
   "id": "f1ff955d",
   "metadata": {},
   "outputs": [
    {
     "name": "stdout",
     "output_type": "stream",
     "text": [
      "Bell state |00>: [0.70710678+0.j 0.        +0.j 0.        +0.j 0.70710678+0.j]\n"
     ]
    }
   ],
   "source": [
    "bell_circuit = qml.QNode(bell_function, dev)\n",
    "\n",
    "# create a Bell state\n",
    "bell_state = bell_circuit()\n",
    "print(\"Bell state |00>:\", bell_state)"
   ]
  },
  {
   "cell_type": "markdown",
   "id": "1aaa7978",
   "metadata": {},
   "source": [
    "Above was the slower way of making the circuit. Below I make the same circuit using the QNode decorators - the recommended method. "
   ]
  },
  {
   "cell_type": "code",
   "execution_count": 50,
   "id": "aae94bc6",
   "metadata": {},
   "outputs": [
    {
     "name": "stdout",
     "output_type": "stream",
     "text": [
      "Probabilities of |00> and |11> for different batch sizes: \n",
      " [[0.5    0.     0.     0.5   ]\n",
      " [0.48   0.     0.     0.52  ]\n",
      " [0.505  0.     0.     0.495 ]\n",
      " [0.5095 0.     0.     0.4905]]\n"
     ]
    }
   ],
   "source": [
    "shot_batch = [10, 100, 1000, 10000]\n",
    "dev1 = qml.device('default.qubit', wires=2, shots=shot_batch)\n",
    "\n",
    "@qml.qnode(dev1)\n",
    "def bell_circuit():\n",
    "    qml.Hadamard(wires=0)\n",
    "    qml.CNOT(wires=[0, 1])\n",
    "    return qml.probs(wires=[0, 1])\n",
    "\n",
    "result = bell_circuit()\n",
    "print(\"Probabilities of |00> and |11> for different batch sizes: \\n\", result)"
   ]
  },
  {
   "cell_type": "markdown",
   "id": "7ec8d361",
   "metadata": {},
   "source": [
    "The results can be visualized by using the draw function."
   ]
  },
  {
   "cell_type": "code",
   "execution_count": 51,
   "id": "097cd8ba",
   "metadata": {},
   "outputs": [
    {
     "name": "stdout",
     "output_type": "stream",
     "text": [
      "0: ──H─╭C─┤ ╭Probs\n",
      "1: ────╰X─┤ ╰Probs\n"
     ]
    }
   ],
   "source": [
    "drawer = qml.draw(bell_circuit, show_all_wires=True)\n",
    "print(drawer())"
   ]
  }
 ],
 "metadata": {
  "kernelspec": {
   "display_name": "qsvt-env",
   "language": "python",
   "name": "python3"
  },
  "language_info": {
   "codemirror_mode": {
    "name": "ipython",
    "version": 3
   },
   "file_extension": ".py",
   "mimetype": "text/x-python",
   "name": "python",
   "nbconvert_exporter": "python",
   "pygments_lexer": "ipython3",
   "version": "3.10.17"
  }
 },
 "nbformat": 4,
 "nbformat_minor": 5
}
